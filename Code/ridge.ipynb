{
 "cells": [
  {
   "cell_type": "code",
   "execution_count": 1,
   "metadata": {},
   "outputs": [],
   "source": [
    "import h5py\n",
    "\n",
    "import numpy as np\n",
    "import pandas as pd\n",
    "\n",
    "from glob import glob\n",
    "from sklearn import linear_model\n",
    "import matplotlib.pyplot as plt\n",
    "%matplotlib inline"
   ]
  },
  {
   "cell_type": "code",
   "execution_count": 2,
   "metadata": {},
   "outputs": [],
   "source": [
    "bay = linear_model.BayesianRidge(alpha_1 = 1e-06, alpha_2 = 1e-06, compute_score = False, copy_X = True,\n",
    "   fit_intercept = True, lambda_1 = 1e-06, lambda_2 = 1e-06,\n",
    "   normalize = False, tol=0.001, verbose = False)"
   ]
  },
  {
   "cell_type": "markdown",
   "execution_count": null,
   "metadata": {},
   "source": [
    "## Explore all csv"
   ]
  },
  {
   "cell_type": "code",
   "execution_count": 3,
   "metadata": {
    "_cell_guid": "79c7e3d0-c299-4dcb-8224-4455121ee9b0",
    "_uuid": "d629ff2d2480ee46fbb7e2d37f6b5fab8052498a"
   },
   "outputs": [],
   "source": [
    "# Age and 4 anonymized targets, 443 partially missed observations\n",
    "train_scores = pd.read_csv('/kaggle/input/trends-assessment-prediction/train_scores.csv').sort_values(by='Id')\n",
    "\n",
    "# Somehow preprocessed morphometry (after group ICA), simplest feature set\n",
    "loadings = pd.read_csv('/kaggle/input/trends-assessment-prediction/loading.csv')\n",
    "\n",
    "# resting-state fMRI Functional Network Connectivity matrices. \n",
    "# In simple setting, these are cross-correlations (in this case something more sophisticated) between\n",
    "# every pair of brain regions presented in train/test *.mat\n",
    "fnc = pd.read_csv('/kaggle/input/trends-assessment-prediction/fnc.csv')\n",
    "\n",
    "# Submit Age and 4 scores for test ids\n",
    "sample = pd.read_csv('/kaggle/input/trends-assessment-prediction/sample_submission.csv')\n",
    "\n",
    "# List of some of subjects from test set whose data were collected from different scanner\n",
    "reveal = pd.read_csv('/kaggle/input/trends-assessment-prediction/reveal_ID_site2.csv')\n",
    "\n",
    "# 53 unique numbers between 2 and 99 (somehow related to brain regions? regions keys?)\n",
    "icn_nums = pd.read_csv('/kaggle/input/trends-assessment-prediction/ICN_numbers.csv')\n",
    "\n",
    "# Brain template\n",
    "# /kaggle/input/trends-assessment-prediction/fMRI_mask.nii \n",
    "\n",
    "# train/test fMRI spatial maps\n",
    "# *.mat"
   ]
  },
  {
   "cell_type": "code",
   "execution_count": 4,
   "metadata": {},
   "outputs": [
    {
     "data": {
      "text/html": [
       "<div>\n",
       "<style scoped>\n",
       "    .dataframe tbody tr th:only-of-type {\n",
       "        vertical-align: middle;\n",
       "    }\n",
       "\n",
       "    .dataframe tbody tr th {\n",
       "        vertical-align: top;\n",
       "    }\n",
       "\n",
       "    .dataframe thead th {\n",
       "        text-align: right;\n",
       "    }\n",
       "</style>\n",
       "<table border=\"1\" class=\"dataframe\">\n",
       "  <thead>\n",
       "    <tr style=\"text-align: right;\">\n",
       "      <th></th>\n",
       "      <th>Id</th>\n",
       "      <th>IC_01</th>\n",
       "      <th>IC_07</th>\n",
       "      <th>IC_05</th>\n",
       "      <th>IC_16</th>\n",
       "      <th>IC_26</th>\n",
       "      <th>IC_06</th>\n",
       "      <th>IC_10</th>\n",
       "      <th>IC_09</th>\n",
       "      <th>IC_18</th>\n",
       "      <th>...</th>\n",
       "      <th>IC_08</th>\n",
       "      <th>IC_03</th>\n",
       "      <th>IC_21</th>\n",
       "      <th>IC_28</th>\n",
       "      <th>IC_11</th>\n",
       "      <th>IC_20</th>\n",
       "      <th>IC_30</th>\n",
       "      <th>IC_22</th>\n",
       "      <th>IC_29</th>\n",
       "      <th>IC_14</th>\n",
       "    </tr>\n",
       "  </thead>\n",
       "  <tbody>\n",
       "    <tr>\n",
       "      <th>0</th>\n",
       "      <td>10001</td>\n",
       "      <td>0.006070</td>\n",
       "      <td>0.014466</td>\n",
       "      <td>0.004136</td>\n",
       "      <td>0.000658</td>\n",
       "      <td>-0.002742</td>\n",
       "      <td>0.005033</td>\n",
       "      <td>0.016720</td>\n",
       "      <td>0.003484</td>\n",
       "      <td>0.001797</td>\n",
       "      <td>...</td>\n",
       "      <td>0.018246</td>\n",
       "      <td>0.023711</td>\n",
       "      <td>0.009177</td>\n",
       "      <td>-0.013929</td>\n",
       "      <td>0.030696</td>\n",
       "      <td>0.010496</td>\n",
       "      <td>0.002892</td>\n",
       "      <td>-0.023235</td>\n",
       "      <td>0.022177</td>\n",
       "      <td>0.017192</td>\n",
       "    </tr>\n",
       "    <tr>\n",
       "      <th>1</th>\n",
       "      <td>10002</td>\n",
       "      <td>0.009087</td>\n",
       "      <td>0.009291</td>\n",
       "      <td>0.007049</td>\n",
       "      <td>-0.002076</td>\n",
       "      <td>-0.002227</td>\n",
       "      <td>0.004605</td>\n",
       "      <td>0.012277</td>\n",
       "      <td>0.002946</td>\n",
       "      <td>0.004086</td>\n",
       "      <td>...</td>\n",
       "      <td>0.014635</td>\n",
       "      <td>0.022556</td>\n",
       "      <td>0.012004</td>\n",
       "      <td>-0.011814</td>\n",
       "      <td>0.022479</td>\n",
       "      <td>0.005739</td>\n",
       "      <td>0.002880</td>\n",
       "      <td>-0.016609</td>\n",
       "      <td>0.025543</td>\n",
       "      <td>0.014524</td>\n",
       "    </tr>\n",
       "    <tr>\n",
       "      <th>2</th>\n",
       "      <td>10003</td>\n",
       "      <td>0.008151</td>\n",
       "      <td>0.014684</td>\n",
       "      <td>0.010444</td>\n",
       "      <td>-0.005293</td>\n",
       "      <td>-0.002913</td>\n",
       "      <td>0.015042</td>\n",
       "      <td>0.017745</td>\n",
       "      <td>0.003930</td>\n",
       "      <td>-0.008021</td>\n",
       "      <td>...</td>\n",
       "      <td>0.019565</td>\n",
       "      <td>0.030616</td>\n",
       "      <td>0.018184</td>\n",
       "      <td>-0.010469</td>\n",
       "      <td>0.029799</td>\n",
       "      <td>0.015435</td>\n",
       "      <td>0.005211</td>\n",
       "      <td>-0.028882</td>\n",
       "      <td>0.031427</td>\n",
       "      <td>0.018164</td>\n",
       "    </tr>\n",
       "  </tbody>\n",
       "</table>\n",
       "<p>3 rows × 27 columns</p>\n",
       "</div>"
      ],
      "text/plain": [
       "      Id     IC_01     IC_07     IC_05     IC_16     IC_26     IC_06  \\\n",
       "0  10001  0.006070  0.014466  0.004136  0.000658 -0.002742  0.005033   \n",
       "1  10002  0.009087  0.009291  0.007049 -0.002076 -0.002227  0.004605   \n",
       "2  10003  0.008151  0.014684  0.010444 -0.005293 -0.002913  0.015042   \n",
       "\n",
       "      IC_10     IC_09     IC_18  ...     IC_08     IC_03     IC_21     IC_28  \\\n",
       "0  0.016720  0.003484  0.001797  ...  0.018246  0.023711  0.009177 -0.013929   \n",
       "1  0.012277  0.002946  0.004086  ...  0.014635  0.022556  0.012004 -0.011814   \n",
       "2  0.017745  0.003930 -0.008021  ...  0.019565  0.030616  0.018184 -0.010469   \n",
       "\n",
       "      IC_11     IC_20     IC_30     IC_22     IC_29     IC_14  \n",
       "0  0.030696  0.010496  0.002892 -0.023235  0.022177  0.017192  \n",
       "1  0.022479  0.005739  0.002880 -0.016609  0.025543  0.014524  \n",
       "2  0.029799  0.015435  0.005211 -0.028882  0.031427  0.018164  \n",
       "\n",
       "[3 rows x 27 columns]"
      ]
     },
     "execution_count": 4,
     "metadata": {},
     "output_type": "execute_result"
    }
   ],
   "source": [
    "loadings.head(3)"
   ]
  },
  {
   "cell_type": "code",
   "execution_count": 5,
   "metadata": {},
   "outputs": [
    {
     "data": {
      "text/html": [
       "<div>\n",
       "<style scoped>\n",
       "    .dataframe tbody tr th:only-of-type {\n",
       "        vertical-align: middle;\n",
       "    }\n",
       "\n",
       "    .dataframe tbody tr th {\n",
       "        vertical-align: top;\n",
       "    }\n",
       "\n",
       "    .dataframe thead th {\n",
       "        text-align: right;\n",
       "    }\n",
       "</style>\n",
       "<table border=\"1\" class=\"dataframe\">\n",
       "  <thead>\n",
       "    <tr style=\"text-align: right;\">\n",
       "      <th></th>\n",
       "      <th>Id</th>\n",
       "      <th>SCN(53)_vs_SCN(69)</th>\n",
       "      <th>SCN(98)_vs_SCN(69)</th>\n",
       "      <th>SCN(99)_vs_SCN(69)</th>\n",
       "      <th>SCN(45)_vs_SCN(69)</th>\n",
       "      <th>ADN(21)_vs_SCN(69)</th>\n",
       "      <th>ADN(56)_vs_SCN(69)</th>\n",
       "      <th>SMN(3)_vs_SCN(69)</th>\n",
       "      <th>SMN(9)_vs_SCN(69)</th>\n",
       "      <th>SMN(2)_vs_SCN(69)</th>\n",
       "      <th>...</th>\n",
       "      <th>CBN(13)_vs_DMN(94)</th>\n",
       "      <th>CBN(18)_vs_DMN(94)</th>\n",
       "      <th>CBN(4)_vs_DMN(94)</th>\n",
       "      <th>CBN(7)_vs_DMN(94)</th>\n",
       "      <th>CBN(18)_vs_CBN(13)</th>\n",
       "      <th>CBN(4)_vs_CBN(13)</th>\n",
       "      <th>CBN(7)_vs_CBN(13)</th>\n",
       "      <th>CBN(4)_vs_CBN(18)</th>\n",
       "      <th>CBN(7)_vs_CBN(18)</th>\n",
       "      <th>CBN(7)_vs_CBN(4)</th>\n",
       "    </tr>\n",
       "  </thead>\n",
       "  <tbody>\n",
       "    <tr>\n",
       "      <th>0</th>\n",
       "      <td>10001</td>\n",
       "      <td>0.368580</td>\n",
       "      <td>0.166876</td>\n",
       "      <td>0.438148</td>\n",
       "      <td>0.341007</td>\n",
       "      <td>-0.186251</td>\n",
       "      <td>0.049096</td>\n",
       "      <td>0.121417</td>\n",
       "      <td>-0.174268</td>\n",
       "      <td>-0.231578</td>\n",
       "      <td>...</td>\n",
       "      <td>-0.149279</td>\n",
       "      <td>0.552841</td>\n",
       "      <td>0.131046</td>\n",
       "      <td>0.335446</td>\n",
       "      <td>0.394867</td>\n",
       "      <td>-0.042853</td>\n",
       "      <td>0.124627</td>\n",
       "      <td>-0.060712</td>\n",
       "      <td>0.515964</td>\n",
       "      <td>0.290488</td>\n",
       "    </tr>\n",
       "    <tr>\n",
       "      <th>1</th>\n",
       "      <td>10002</td>\n",
       "      <td>0.151696</td>\n",
       "      <td>-0.024819</td>\n",
       "      <td>0.217504</td>\n",
       "      <td>0.418072</td>\n",
       "      <td>-0.227234</td>\n",
       "      <td>-0.064052</td>\n",
       "      <td>-0.143832</td>\n",
       "      <td>-0.118116</td>\n",
       "      <td>-0.054825</td>\n",
       "      <td>...</td>\n",
       "      <td>-0.214216</td>\n",
       "      <td>-0.039792</td>\n",
       "      <td>0.143014</td>\n",
       "      <td>-0.189962</td>\n",
       "      <td>0.498373</td>\n",
       "      <td>0.444231</td>\n",
       "      <td>0.592438</td>\n",
       "      <td>0.028649</td>\n",
       "      <td>0.705524</td>\n",
       "      <td>0.248327</td>\n",
       "    </tr>\n",
       "    <tr>\n",
       "      <th>2</th>\n",
       "      <td>10003</td>\n",
       "      <td>0.343415</td>\n",
       "      <td>0.109974</td>\n",
       "      <td>0.741641</td>\n",
       "      <td>0.578558</td>\n",
       "      <td>-0.676446</td>\n",
       "      <td>-0.436960</td>\n",
       "      <td>-0.295663</td>\n",
       "      <td>-0.377790</td>\n",
       "      <td>-0.344963</td>\n",
       "      <td>...</td>\n",
       "      <td>-0.154941</td>\n",
       "      <td>0.136850</td>\n",
       "      <td>-0.022361</td>\n",
       "      <td>0.137625</td>\n",
       "      <td>0.677972</td>\n",
       "      <td>0.409412</td>\n",
       "      <td>0.563892</td>\n",
       "      <td>0.438684</td>\n",
       "      <td>0.618204</td>\n",
       "      <td>0.284474</td>\n",
       "    </tr>\n",
       "  </tbody>\n",
       "</table>\n",
       "<p>3 rows × 1379 columns</p>\n",
       "</div>"
      ],
      "text/plain": [
       "      Id  SCN(53)_vs_SCN(69)  SCN(98)_vs_SCN(69)  SCN(99)_vs_SCN(69)  \\\n",
       "0  10001            0.368580            0.166876            0.438148   \n",
       "1  10002            0.151696           -0.024819            0.217504   \n",
       "2  10003            0.343415            0.109974            0.741641   \n",
       "\n",
       "   SCN(45)_vs_SCN(69)  ADN(21)_vs_SCN(69)  ADN(56)_vs_SCN(69)  \\\n",
       "0            0.341007           -0.186251            0.049096   \n",
       "1            0.418072           -0.227234           -0.064052   \n",
       "2            0.578558           -0.676446           -0.436960   \n",
       "\n",
       "   SMN(3)_vs_SCN(69)  SMN(9)_vs_SCN(69)  SMN(2)_vs_SCN(69)  ...  \\\n",
       "0           0.121417          -0.174268          -0.231578  ...   \n",
       "1          -0.143832          -0.118116          -0.054825  ...   \n",
       "2          -0.295663          -0.377790          -0.344963  ...   \n",
       "\n",
       "   CBN(13)_vs_DMN(94)  CBN(18)_vs_DMN(94)  CBN(4)_vs_DMN(94)  \\\n",
       "0           -0.149279            0.552841           0.131046   \n",
       "1           -0.214216           -0.039792           0.143014   \n",
       "2           -0.154941            0.136850          -0.022361   \n",
       "\n",
       "   CBN(7)_vs_DMN(94)  CBN(18)_vs_CBN(13)  CBN(4)_vs_CBN(13)  \\\n",
       "0           0.335446            0.394867          -0.042853   \n",
       "1          -0.189962            0.498373           0.444231   \n",
       "2           0.137625            0.677972           0.409412   \n",
       "\n",
       "   CBN(7)_vs_CBN(13)  CBN(4)_vs_CBN(18)  CBN(7)_vs_CBN(18)  CBN(7)_vs_CBN(4)  \n",
       "0           0.124627          -0.060712           0.515964          0.290488  \n",
       "1           0.592438           0.028649           0.705524          0.248327  \n",
       "2           0.563892           0.438684           0.618204          0.284474  \n",
       "\n",
       "[3 rows x 1379 columns]"
      ]
     },
     "execution_count": 5,
     "metadata": {},
     "output_type": "execute_result"
    }
   ],
   "source": [
    "# 53 * 52 / 2 = 1378 + Id column\n",
    "fnc.head(3)"
   ]
  },
  {
   "cell_type": "markdown",
   "execution_count": null,
   "metadata": {},
   "source": [
    "# Exploring fnc"
   ]
  },
  {
   "cell_type": "code",
   "execution_count": 6,
   "metadata": {},
   "outputs": [],
   "source": [
    "import re\n",
    "from tqdm import tqdm"
   ]
  },
  {
   "cell_type": "code",
   "execution_count": 7,
   "metadata": {},
   "outputs": [],
   "source": [
    "r = re.compile('\\d+')\n",
    "col_dict = {}\n",
    "for col in fnc.columns:\n",
    "    ind = r.findall(col)\n",
    "    if ind:\n",
    "        col_dict[col] = [int(i) for i in ind]"
   ]
  },
  {
   "cell_type": "code",
   "execution_count": 8,
   "metadata": {},
   "outputs": [],
   "source": [
    "def get_matrix(df_row, return_idx=False):\n",
    "    matrix = np.zeros((100, 100))\n",
    "    for col in df_row.index[1:]:\n",
    "        i, j = col_dict[col]\n",
    "        matrix[i, j] = df_row[col]\n",
    "    matrix += matrix.T\n",
    "    \n",
    "    idx = np.array([ 2,  3,  4,  5,  7,  8,  9, 11, 12, 13, 15, 16, 17, 18, 20, 21, 23,\n",
    "                     27, 32, 33, 37, 38, 40, 43, 45, 48, 51, 53, 54, 55, 56, 61, 62, 63,\n",
    "                     66, 67, 68, 69, 70, 71, 72, 77, 79, 80, 81, 83, 84, 88, 93, 94, 96,\n",
    "                     98, 99])\n",
    "    if return_idx:\n",
    "        return matrix[:, idx][idx, :], idx \n",
    "    return matrix[:, idx][idx, :]"
   ]
  },
  {
   "cell_type": "code",
   "execution_count": 9,
   "metadata": {},
   "outputs": [
    {
     "name": "stderr",
     "output_type": "stream",
     "text": [
      "11754it [04:38, 42.21it/s]\n"
     ]
    }
   ],
   "source": [
    "degrees = []\n",
    "for row in tqdm(fnc.iterrows()):\n",
    "    mat = get_matrix(row[1])\n",
    "    degrees.append(mat.sum(axis=1))"
   ]
  },
  {
   "cell_type": "code",
   "execution_count": 10,
   "metadata": {},
   "outputs": [],
   "source": [
    "_, idx = get_matrix(fnc.iloc[0], return_idx=True)\n",
    "degrees = pd.DataFrame(degrees, columns=idx)\n",
    "degrees['Id'] = fnc['Id']"
   ]
  },
  {
   "cell_type": "code",
   "execution_count": 11,
   "metadata": {},
   "outputs": [
    {
     "data": {
      "text/plain": [
       "(5877, 5877)"
      ]
     },
     "execution_count": 11,
     "metadata": {},
     "output_type": "execute_result"
    }
   ],
   "source": [
    "len(glob('/kaggle/input/trends-assessment-prediction/fMRI_train/*.mat')), len(glob('/kaggle/input/trends-assessment-prediction/fMRI_test/*.mat'))"
   ]
  },
  {
   "cell_type": "code",
   "execution_count": 12,
   "metadata": {},
   "outputs": [
    {
     "name": "stdout",
     "output_type": "stream",
     "text": [
      "(53, 63, 52, 53)\n"
     ]
    }
   ],
   "source": [
    "sbj = glob('/kaggle/input/trends-assessment-prediction/fMRI_train/*.mat')[10]\n",
    "\n",
    "with h5py.File(sbj, 'r') as f:\n",
    "    mat = f['SM_feature'][()]\n",
    "    mat = np.moveaxis(mat, [0,1,2,3], [3,2,1,0])\n",
    "    \n",
    "print(mat.shape)"
   ]
  },
  {
   "cell_type": "markdown",
   "execution_count": null,
   "metadata": {},
   "source": [
    "# Build a model\n",
    "\n",
    "upd1. add mape_scorer\n",
    "\n",
    "upd2. add fnc to features\n",
    "\n",
    "upd3. add degrees features\n",
    "\n",
    "upd4. add fcn/500 from https://www.kaggle.com/aerdem4/rapids-svm-on-trends-neuroimaging , switch to Ridge regression\n",
    "\n",
    "todo: fit on all available targets (currently observation is dropped if any target is missing)"
   ]
  },
  {
   "cell_type": "code",
   "execution_count": 13,
   "metadata": {},
   "outputs": [],
   "source": [
    "from sklearn.ensemble import RandomForestRegressor\n",
    "from sklearn.linear_model import Ridge, Lasso\n",
    "from sklearn.svm import SVR\n",
    "from sklearn.model_selection import GridSearchCV, KFold, cross_val_predict"
   ]
  },
  {
   "cell_type": "code",
   "execution_count": 14,
   "metadata": {},
   "outputs": [],
   "source": [
    "# train/test Ids\n",
    "train_ids = sorted(loadings[loadings['Id'].isin(train_scores.Id)]['Id'].values)\n",
    "test_ids = sorted(loadings[~loadings['Id'].isin(train_scores.Id)]['Id'].values)\n",
    "\n",
    "# generate test DataFrame\n",
    "test_prediction = pd.DataFrame(test_ids, columns=['Id'], dtype=str)\n",
    "\n",
    "target_columns = ('age', 'domain1_var1', 'domain1_var2','domain2_var1','domain2_var2')\n",
    "fnc_columns = fnc.columns[1:]\n",
    "degrees_columns = degrees.columns[:-1]\n",
    "\n",
    "# generate X, targets\n",
    "data = pd.merge(loadings, train_scores, on='Id')#.dropna()\n",
    "data = pd.merge(data, fnc, on='Id')\n",
    "data = pd.merge(data, degrees, on='Id')\n",
    "\n",
    "# X_train = data.drop(list(target_columns), axis=1).drop('Id', axis=1)\n",
    "# y_train = data[list(target_columns)]\n",
    "\n",
    "X_test = pd.merge(loadings[loadings.Id.isin(test_ids)], fnc, on='Id')\n",
    "X_test = pd.merge(X_test, degrees, on='Id').drop('Id', axis=1)"
   ]
  },
  {
   "cell_type": "markdown",
   "execution_count": null,
   "metadata": {},
   "source": [
    "## Implement mape scorer\n",
    "\n",
    "Since lb uses weighted mape (all targets are > 0), we will implement mape scorer to pass into GridSearchCV"
   ]
  },
  {
   "cell_type": "code",
   "execution_count": 15,
   "metadata": {},
   "outputs": [],
   "source": [
    "from sklearn.metrics import make_scorer\n",
    "\n",
    "def MAPE(y_true, y_pred, **kwargs):\n",
    "    '''Returns MAPE between y_true and y_pred'''\n",
    "    return np.sum(np.abs(y_true - y_pred)) / y_true.sum()\n",
    "\n",
    "mape_scorer = make_scorer(MAPE, greater_is_better=False)"
   ]
  },
  {
   "cell_type": "code",
   "execution_count": 16,
   "metadata": {},
   "outputs": [],
   "source": [
    "# Setting up the model\n",
    "# model = RandomForestRegressor(\n",
    "#     max_depth=5,\n",
    "#     min_samples_split=10,\n",
    "#     min_samples_leaf=5\n",
    "# )\n",
    "\n",
    "# model = Lasso()\n",
    "model = bay\n",
    "# model = SVR()\n",
    "\n",
    "\n",
    "cv = KFold(n_splits = 7, shuffle=True, random_state=29)\n",
    "\n",
    "# grid = {\n",
    "#     'max_depth':[2, 5, 10],\n",
    "#     'n_estimators':[20, 30],\n",
    "#     'max_features':[0.1, 0.2, 0.3, 0.5]\n",
    "# }\n",
    "\n",
    "#grid = {\n",
    "#    'alpha': [0.0003, 0.001, 0.003, 0.01, 0.03,0.0001]\n",
    "#}\n",
    "grid = {'n_iter': [100,200,300]}\n",
    "# grid = {\n",
    "#     'C': [0.0001, 0.0003, 0.001, 0.003, 0.01, 0.03, 0.1, 0.3, 0.5, 0.85, 1, 3, 5, 10]\n",
    "# }\n",
    "\n",
    "# grid = {\n",
    "#     'alpha': np.linspace(0.0001, 0.001, 20)\n",
    "# }\n",
    "gs = GridSearchCV(model, grid, n_jobs=-1, cv=cv, verbose=0, scoring=mape_scorer)"
   ]
  },
  {
   "cell_type": "code",
   "execution_count": 17,
   "metadata": {},
   "outputs": [],
   "source": [
    "# age 0.1446\n",
    "\n",
    "# domain1_var1 0.1512\n",
    "\n",
    "# domain1_var2 0.1513\n",
    "\n",
    "# domain2_var1 0.1819\n",
    "\n",
    "# domain2_var2 0.1763"
   ]
  },
  {
   "cell_type": "code",
   "execution_count": 18,
   "metadata": {},
   "outputs": [
    {
     "name": "stdout",
     "output_type": "stream",
     "text": [
      "age 0.20919947562339652\n",
      "domain1_var1 0.15804474007442154\n",
      "domain1_var2 0.15135147941193514\n",
      "domain2_var1 0.18630466379795924\n",
      "domain2_var2 0.17919664682884168\n",
      "Total score: 0.18086691045682152\n"
     ]
    }
   ],
   "source": [
    "# Training the model\n",
    "best_models = {}\n",
    "total_score = []\n",
    "\n",
    "for col in target_columns:\n",
    "    \n",
    "    X_train = data.dropna(subset=[col], axis=0).drop(list(target_columns), axis=1).drop('Id', axis=1)\n",
    "    X_train[fnc_columns] /= 600\n",
    "    y_train = data.dropna(subset=[col], axis=0)[col]\n",
    "    \n",
    "    gs.fit(X_train, y_train)\n",
    "    best_models[col] = gs.best_estimator_\n",
    "    \n",
    "    # Train performance\n",
    "    y_pred = cross_val_predict(gs.best_estimator_, X_train, y_train, cv=cv, n_jobs=-1)\n",
    "    total_score.append(MAPE(y_train, y_pred))\n",
    "    print(col, MAPE(y_train, y_pred))\n",
    "\n",
    "total_score = np.array(total_score)\n",
    "print(f'Total score: {np.sum(total_score*[.3, .175, .175, .175, .175])}')"
   ]
  },
  {
   "cell_type": "code",
   "execution_count": 19,
   "metadata": {},
   "outputs": [],
   "source": [
    "def get_pred(col, model):\n",
    "    X_train = data.dropna(subset=[col], axis=0).drop(list(target_columns), axis=1).drop('Id', axis=1)\n",
    "    X_train[fnc_columns] /= 600\n",
    "    y_train = data.dropna(subset=[col], axis=0)[col]\n",
    "    \n",
    "    # Train performance\n",
    "    y_pred = cross_val_predict(model, X_train, y_train, cv=cv, n_jobs=-1)\n",
    "    return y_pred"
   ]
  },
  {
   "cell_type": "code",
   "execution_count": 20,
   "metadata": {},
   "outputs": [],
   "source": [
    "# Predicting test\n",
    "X_test[fnc_columns] /= 600\n",
    "\n",
    "for col in target_columns:\n",
    "    test_prediction[col] = best_models[col].predict(X_test)"
   ]
  },
  {
   "cell_type": "code",
   "execution_count": 21,
   "metadata": {},
   "outputs": [],
   "source": [
    "# Evaluate the lb metric on local cv\n",
    "\n",
    "# def lb_metric(y_true, y_pred):\n",
    "#     '''Computes lb metric, both y_true and y_pred should be DataFrames of shape n x 5'''\n",
    "#     y_true = y_true[['age', 'domain1_var1', 'domain1_var2','domain2_var1','domain2_var2']]\n",
    "#     y_pred = y_pred[['age', 'domain1_var1', 'domain1_var2','domain2_var1','domain2_var2']]\n",
    "    \n",
    "#     weights = np.array([.3, .175, .175, .175, .175])\n",
    "#     return np.sum(weights * np.abs(y_pred.values - y_true.values).sum(axis=0) / y_train.values.sum(axis=0))"
   ]
  },
  {
   "cell_type": "code",
   "execution_count": 22,
   "metadata": {},
   "outputs": [],
   "source": [
    "# train_prediction_cv = {}\n",
    "# for col in target_columns:\n",
    "#     train_prediction_cv[col] = cross_val_predict(best_models[col], X_train, y_train[col], cv = cv, n_jobs=-1)\n",
    "# train_prediction_cv = pd.DataFrame(train_prediction_cv)\n",
    "\n",
    "# lb_metric(y_train, train_prediction_cv)"
   ]
  },
  {
   "cell_type": "markdown",
   "execution_count": null,
   "metadata": {},
   "source": [
    "## Making a submission"
   ]
  },
  {
   "cell_type": "code",
   "execution_count": 23,
   "metadata": {},
   "outputs": [],
   "source": [
    "def make_sub(test_prediction):\n",
    "    '''Converts 5877 x 6 DataFrame of predictions into 29385 x 2 DataFrame with valid Id'''\n",
    "    target_columns = ('age', 'domain1_var1', 'domain1_var2','domain2_var1','domain2_var2')\n",
    "    _columns = (0,1,2,3,4)\n",
    "    tst = test_prediction.rename(columns=dict(zip(target_columns, _columns)))\n",
    "    tst = tst.melt(id_vars='Id',\n",
    "           value_vars=_columns,\n",
    "           value_name='Predicted')\n",
    "\n",
    "    tst['target_type'] = tst.variable.map(dict(zip(_columns, target_columns)))\n",
    "    tst['Id_'] = tst[['Id', 'target_type']].apply(lambda x: '_'.join((str(x[0]), str(x[1]))), axis=1)\n",
    "\n",
    "    return tst.sort_values(by=['Id', 'variable'])\\\n",
    "              .drop(['Id', 'variable', 'target_type'],axis=1)\\\n",
    "              .rename(columns={'Id_':'Id'})\\\n",
    "              .reset_index(drop=True)\\\n",
    "              [['Id', 'Predicted']]"
   ]
  },
  {
   "cell_type": "code",
   "execution_count": 24,
   "metadata": {},
   "outputs": [
    {
     "data": {
      "text/html": [
       "<div>\n",
       "<style scoped>\n",
       "    .dataframe tbody tr th:only-of-type {\n",
       "        vertical-align: middle;\n",
       "    }\n",
       "\n",
       "    .dataframe tbody tr th {\n",
       "        vertical-align: top;\n",
       "    }\n",
       "\n",
       "    .dataframe thead th {\n",
       "        text-align: right;\n",
       "    }\n",
       "</style>\n",
       "<table border=\"1\" class=\"dataframe\">\n",
       "  <thead>\n",
       "    <tr style=\"text-align: right;\">\n",
       "      <th></th>\n",
       "      <th>Id</th>\n",
       "      <th>Predicted</th>\n",
       "    </tr>\n",
       "  </thead>\n",
       "  <tbody>\n",
       "    <tr>\n",
       "      <th>0</th>\n",
       "      <td>10003_age</td>\n",
       "      <td>57.678344</td>\n",
       "    </tr>\n",
       "    <tr>\n",
       "      <th>1</th>\n",
       "      <td>10003_domain1_var1</td>\n",
       "      <td>53.465309</td>\n",
       "    </tr>\n",
       "    <tr>\n",
       "      <th>2</th>\n",
       "      <td>10003_domain1_var2</td>\n",
       "      <td>59.237550</td>\n",
       "    </tr>\n",
       "    <tr>\n",
       "      <th>3</th>\n",
       "      <td>10003_domain2_var1</td>\n",
       "      <td>48.128446</td>\n",
       "    </tr>\n",
       "    <tr>\n",
       "      <th>4</th>\n",
       "      <td>10003_domain2_var2</td>\n",
       "      <td>52.341559</td>\n",
       "    </tr>\n",
       "  </tbody>\n",
       "</table>\n",
       "</div>"
      ],
      "text/plain": [
       "                   Id  Predicted\n",
       "0           10003_age  57.678344\n",
       "1  10003_domain1_var1  53.465309\n",
       "2  10003_domain1_var2  59.237550\n",
       "3  10003_domain2_var1  48.128446\n",
       "4  10003_domain2_var2  52.341559"
      ]
     },
     "execution_count": 24,
     "metadata": {},
     "output_type": "execute_result"
    }
   ],
   "source": [
    "sub = make_sub(test_prediction)\n",
    "\n",
    "sub.head()"
   ]
  },
  {
   "cell_type": "code",
   "execution_count": 25,
   "metadata": {},
   "outputs": [],
   "source": [
    "sub.to_csv('ridge_mape_500.csv', index=False)"
   ]
  },
  {
   "cell_type": "code",
   "execution_count": null,
   "metadata": {},
   "outputs": [],
   "source": []
  }
 ],
 "metadata": {
  "kernelspec": {
   "display_name": "Python 3",
   "language": "python",
   "name": "python3"
  },
  "language_info": {
   "codemirror_mode": {
    "name": "ipython",
    "version": 3
   },
   "file_extension": ".py",
   "mimetype": "text/x-python",
   "name": "python",
   "nbconvert_exporter": "python",
   "pygments_lexer": "ipython3",
   "version": "3.6.6"
  }
 },
 "nbformat": 4,
 "nbformat_minor": 4
}
